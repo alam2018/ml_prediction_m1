{
  "nbformat": 4,
  "nbformat_minor": 0,
  "metadata": {
    "colab": {
      "name": "arima_data.ipynb",
      "provenance": [],
      "collapsed_sections": [],
      "include_colab_link": true
    },
    "kernelspec": {
      "name": "python3",
      "display_name": "Python 3"
    },
    "accelerator": "GPU"
  },
  "cells": [
    {
      "cell_type": "markdown",
      "metadata": {
        "id": "view-in-github",
        "colab_type": "text"
      },
      "source": [
        "<a href=\"https://colab.research.google.com/github/alam2018/ml_prediction_m1/blob/master/arima_data.ipynb\" target=\"_parent\"><img src=\"https://colab.research.google.com/assets/colab-badge.svg\" alt=\"Open In Colab\"/></a>"
      ]
    },
    {
      "cell_type": "code",
      "metadata": {
        "id": "22v1T1MgmUwg",
        "colab_type": "code",
        "outputId": "2b0ab66c-8b08-4bae-bcff-26e67feaec8d",
        "colab": {
          "base_uri": "https://localhost:8080/",
          "height": 34
        }
      },
      "source": [
        "from google.colab import drive\n",
        "drive.mount('/content/drive')"
      ],
      "execution_count": 0,
      "outputs": [
        {
          "output_type": "stream",
          "text": [
            "Drive already mounted at /content/drive; to attempt to forcibly remount, call drive.mount(\"/content/drive\", force_remount=True).\n"
          ],
          "name": "stdout"
        }
      ]
    },
    {
      "cell_type": "code",
      "metadata": {
        "id": "BmhvFbjFrgem",
        "colab_type": "code",
        "colab": {}
      },
      "source": [
        "#Define if the simulation is for uRLLC or eMBB slice\n",
        "eMBB = True\n",
        "\n",
        "# Part 1 - Data Preprocessing\n",
        "\n",
        "# Importing the libraries\n",
        "import numpy as np\n",
        "import matplotlib.pyplot as plt\n",
        "from google.colab import files\n",
        "import pandas as pd\n",
        "\n",
        "# Importing the training set\n",
        "if eMBB == True:\n",
        "  dataset_train = pd.read_csv('/content/drive/My Drive/Colab Notebooks/traffic_prediction/data_eMBB/train_data/traffic_simulation.csv', sep=';')\n",
        "else:\n",
        "  dataset_train = pd.read_csv('/content/drive/My Drive/Colab Notebooks/traffic_prediction/data_URLLC/traffic_simulation.csv', sep=';')\n",
        "\n",
        "#Insert a new column containing the 'byte' value converted to 'Mb' for training\n",
        "dataset_train['TotalData_Mb'] = dataset_train.iloc[:, 2].values / 1000000\n",
        "\n",
        "training_set = dataset_train.iloc[:, 4].values\n",
        "training_set = training_set.reshape(-1,1)\n"
      ],
      "execution_count": 0,
      "outputs": []
    },
    {
      "cell_type": "code",
      "metadata": {
        "id": "mCi9FxPj7a9Z",
        "colab_type": "code",
        "outputId": "3d4aa41d-1e82-444e-d9a9-c22e26a4784a",
        "colab": {
          "base_uri": "https://localhost:8080/",
          "height": 34
        }
      },
      "source": [
        "#Prepare training and test dataset\n",
        "prediction_size = 60\n",
        "X = training_set\n",
        "#train_size = int (round(len(X) * 0.7))\n",
        "train_size = 3000\n",
        "test_size = train_size + prediction_size\n",
        "\n",
        "train = X[0:train_size]\n",
        "#test = X[train_size:test_size] \n",
        "test = X[6000:6060]\n",
        "predictions = []\n",
        "\n",
        "#Prepare ARIMA model\n",
        "from statsmodels.tsa.arima_model import ARIMA\n",
        "\n",
        "import itertools\n",
        "p=d=q=range(0,10)\n",
        "pdq = list(itertools.product(p,d,q))\n",
        "\n",
        "#print (pdq)\n",
        "\n",
        "import warnings\n",
        "warnings.filterwarnings('ignore')\n",
        "temp_aic = 1000000000000\n",
        "\n",
        "for param in pdq:\n",
        "    try:\n",
        "        model_arima = ARIMA(train,order=param)\n",
        "        model_arima_fit = model_arima.fit()\n",
        "        print(param,model_arima_fit.aic)\n",
        "        if model_arima_fit.aic < temp_aic:\n",
        "          temp_aic = model_arima_fit.aic\n",
        "          temp_pdq = param\n",
        "    except:\n",
        "        continue\n",
        "\n",
        "print (temp_pdq, temp_aic)"
      ],
      "execution_count": 0,
      "outputs": [
        {
          "output_type": "stream",
          "text": [
            "(6, 1, 8) 27424.27697340341\n"
          ],
          "name": "stdout"
        }
      ]
    },
    {
      "cell_type": "code",
      "metadata": {
        "id": "StmKbRCf4SbK",
        "colab_type": "code",
        "colab": {}
      },
      "source": [
        "\n",
        "#p,d,q  p = periods taken for autoregressive model\n",
        "#d -> Integrated order, difference\n",
        "# q periods in moving average model\n",
        "#model_arima = ARIMA(train,order=(6, 1, 8))\n",
        "model_arima = ARIMA(train,order=temp_pdq)\n",
        "model_arima_fit = model_arima.fit(disp=0)\n",
        "#print(model_arima_fit.aic)\n",
        "\n",
        "predictions= model_arima_fit.forecast(steps=prediction_size)[0]\n",
        "\n",
        "#print (predictions)"
      ],
      "execution_count": 0,
      "outputs": []
    },
    {
      "cell_type": "code",
      "metadata": {
        "id": "EB4G2dOW47V2",
        "colab_type": "code",
        "colab": {}
      },
      "source": [
        "# Visualising the results\n",
        "plt.plot(test, color = 'red', label = 'Real Traffic (MB)')\n",
        "plt.plot(predictions, color = 'blue', label = 'Predicted traffic (MB)')\n",
        "plt.ylim (320,550)\n",
        "plt.title('Traffic Prediction (ARIMA)')\n",
        "plt.xlabel('Time Index (s)')\n",
        "plt.ylabel('Data (MB)')\n",
        "plt.legend(loc='best', prop={'size': 6})\n",
        "\n",
        "plt.savefig('arima_valData_data.png',bbox_inches=\"tight\", pad_inches=0, dpi=300)\n",
        "\n",
        "plt.show()"
      ],
      "execution_count": 0,
      "outputs": []
    },
    {
      "cell_type": "code",
      "metadata": {
        "id": "HpB9nHjmiUQA",
        "colab_type": "code",
        "colab": {}
      },
      "source": [
        "from sklearn.metrics import mean_squared_error\n",
        "\n",
        "from math import sqrt\n",
        "\n",
        "mse = mean_squared_error(test, predictions)\n",
        "\n",
        "rmse = sqrt(mse)\n",
        "\n",
        "print('RMSE: %f' % rmse)\n",
        "\n",
        "\n",
        "#print (predictions.shape)\n",
        "X_test = np.reshape(test, (np.product(test.shape),))\n",
        "\n",
        "df = pd.DataFrame(list(zip(X_test, predictions)),\n",
        "              columns=['Test Packet Size (MB)','Predicted Packet Size (MB)'])\n",
        "\n",
        "df.to_csv(\"arima_data.csv\", index = None, header=True)\n"
      ],
      "execution_count": 0,
      "outputs": []
    }
  ]
}